{
 "cells": [
  {
   "cell_type": "code",
   "execution_count": 1,
   "id": "0691735f-25b9-480b-b0f9-69e00a4a2c48",
   "metadata": {},
   "outputs": [],
   "source": [
    "import pandas"
   ]
  },
  {
   "cell_type": "code",
   "execution_count": 5,
   "id": "93df136e-e621-4300-881b-72b4f9537a38",
   "metadata": {},
   "outputs": [],
   "source": [
    "def analyze_file(file_path: str):\n",
    "    with open(file_path, \"r\") as file:\n",
    "        lines = file.readlines()\n",
    "\n",
    "    if not lines:\n",
    "        return {\"error\": \"File is empty\"}\n",
    "    \n",
    "    # Determine delimiter from the first line\n",
    "    first_line = lines[0].strip()\n",
    "    delimiters = set(first_line) - set(\"abcdefghijklmnopqrstuvwxyzABCDEFGHIJKLMNOPQRSTUVWXYZ0123456789_ \")\n",
    "    if len(delimiters) != 1:\n",
    "        return {\"error\": \"Cannot determine a consistent delimiter\"}\n",
    "    \n",
    "    delimiter = delimiters.pop()\n",
    "    num_columns = len(first_line.split(delimiter))\n",
    "\n",
    "    # Check consistency across all lines\n",
    "    for idx, line in enumerate(lines):\n",
    "        columns = line.strip().split(delimiter)\n",
    "        if len(columns) != num_columns:\n",
    "            return {\"error\": f\"Inconsistent number of columns on line {idx + 1}\"}\n",
    "\n",
    "    # Check if the file has a header\n",
    "    header = lines[0].strip().split(delimiter)\n",
    "    if not all(column.isalpha() for column in header):\n",
    "        return {\"error\": \"Header is missing or invalid\"}\n",
    "    \n",
    "    return {\"success\": True, \"delimiter\": delimiter, \"columns\": num_columns}\n"
   ]
  },
  {
   "cell_type": "code",
   "execution_count": 6,
   "id": "1b6c2158-6bc2-4b4a-a506-cdac97927e3f",
   "metadata": {},
   "outputs": [
    {
     "data": {
      "text/plain": [
       "{'error': 'Inconsistent number of columns on line 6'}"
      ]
     },
     "execution_count": 6,
     "metadata": {},
     "output_type": "execute_result"
    }
   ],
   "source": [
    "analyze_file(\"test.txt\")\n",
    "analyze_file(\"invalid_test.txt\")"
   ]
  },
  {
   "cell_type": "code",
   "execution_count": null,
   "id": "3acbb81d-b03e-41cc-b1b7-fbb4fd762675",
   "metadata": {},
   "outputs": [],
   "source": []
  }
 ],
 "metadata": {
  "kernelspec": {
   "display_name": "Python 3 (ipykernel)",
   "language": "python",
   "name": "python3"
  },
  "language_info": {
   "codemirror_mode": {
    "name": "ipython",
    "version": 3
   },
   "file_extension": ".py",
   "mimetype": "text/x-python",
   "name": "python",
   "nbconvert_exporter": "python",
   "pygments_lexer": "ipython3",
   "version": "3.10.12"
  }
 },
 "nbformat": 4,
 "nbformat_minor": 5
}
